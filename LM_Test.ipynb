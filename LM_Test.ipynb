{
 "cells": [
  {
   "cell_type": "markdown",
   "id": "4fc62c0d-7b24-4927-9a75-83b1ccf6edad",
   "metadata": {},
   "source": [
    "# 1. The Lagrange Multiplier test\n",
    "\n",
    "\n",
    "The LM test examines whether the scores from the restricted model are 0. If the null is true, and the restrictions are valid, then the parameters of the restricted model should be close to the minimum of the sum of squared errors, and so the scores should be close to zero, on average."
   ]
  },
  {
   "cell_type": "markdown",
   "id": "d8d4dcc6-ad95-478f-b1d1-62e0af5a9ce1",
   "metadata": {},
   "source": [
    "Full model: $$ Y=X_1+X_2+u$$\n",
    "Restricted model: $$ Y=X_1+u$$"
   ]
  },
  {
   "cell_type": "code",
   "execution_count": 1,
   "id": "84cdbb96-1f39-4083-bede-41ebe44a895c",
   "metadata": {},
   "outputs": [],
   "source": [
    "import warnings\n",
    "warnings.filterwarnings(\"ignore\")\n",
    "import numpy as np\n",
    "import scipy.stats as stats\n",
    "from scipy.stats import chi2\n",
    "import statsmodels.api as sm\n",
    "import pysal as ps\n",
    "import matplotlib.pyplot as plt\n",
    "from spatial_functions import sarerror_complete, sarlag_complete\n",
    "from pysal.model import spreg"
   ]
  },
  {
   "cell_type": "code",
   "execution_count": 2,
   "id": "2512b4ef-05f3-45d1-819d-b7bdb2252f05",
   "metadata": {},
   "outputs": [
    {
     "name": "stdout",
     "output_type": "stream",
     "text": [
      "LM_manual 62.6747\n",
      "LM_package: 62.6747\n",
      "P-value_MANUAL: 2.438228896512582e-15\n",
      "P-value_PACKAGE: 2.4382288965125907e-15\n"
     ]
    }
   ],
   "source": [
    "# Generate some data\n",
    "np.random.seed(12)\n",
    "x1, x2, x3 = np.random.normal(size=(3,100))\n",
    "\n",
    "#Generate Y\n",
    "y =  x1 + x2+ np.random.normal(size=100)\n",
    "\n",
    "# Fit two models\n",
    "model = sm.OLS(y, np.column_stack((x1, x2))).fit() #Full model\n",
    "model1 = sm.OLS(y, x1).fit() #Restricted model\n",
    "\n",
    "\n",
    "#LM statistic using the package s\n",
    "LM, P_value, df_diff=model.compare_lm_test(model1)\n",
    "\n",
    "\n",
    "#The test is simply n*R^2, where R^2 come from an auxiliary regression: Regress the residuals of the restricted model on the covariates\n",
    "Y=model1.resid\n",
    "aux_reg=sm.OLS(Y,np.column_stack((x1, x2))).fit()\n",
    "lm=100*aux_reg.rsquared\n",
    "\n",
    "#p-value manual\n",
    "df=model1.df_resid-model.df_resid\n",
    "pvalue=stats.chi2.sf(lm,df )\n",
    "\n",
    "print('LM_manual', round(lm,4))\n",
    "print('LM_package:', round(LM,4))\n",
    "print('P-value_MANUAL:', pvalue)\n",
    "print('P-value_PACKAGE:', P_value)"
   ]
  },
  {
   "cell_type": "markdown",
   "id": "5a959cc1-0029-4d8e-bb82-75087940db1f",
   "metadata": {},
   "source": [
    "The null hypothesis was rejected.  \n",
    "A formal proof of this result can be found [here](https://stats.stackexchange.com/q/570201)\n",
    "\n",
    "In fact, $X_2$ is included in the DGP, so restrict the model is not valid.   \n",
    "However, if we include the variable $X_3$, which is not part of the DGP of $Y$, the result should be different: "
   ]
  },
  {
   "cell_type": "code",
   "execution_count": 3,
   "id": "1ae4ff60-8d0a-478c-82f3-7c5d0e56f66c",
   "metadata": {},
   "outputs": [
    {
     "name": "stdout",
     "output_type": "stream",
     "text": [
      "LM: 0.0744\n",
      "P-value: 0.7851\n"
     ]
    }
   ],
   "source": [
    "model2= sm.OLS(y, np.column_stack((x1, x2,x3))).fit() #Full model\n",
    "LM, P_value, df_diff=model2.compare_lm_test(model)\n",
    "\n",
    "print('LM:', round(LM,4))\n",
    "print('P-value:', round(P_value,4))"
   ]
  },
  {
   "cell_type": "markdown",
   "id": "b2b6583e-6a28-42cd-8289-0d25b6be8890",
   "metadata": {},
   "source": [
    "# 2 LM in Spatial Regression\n",
    "\n",
    "- In spatial regression models the usual LM tests [(Anselin et. al, 1996)](https://www.sciencedirect.com/science/article/pii/0166046295021116) are modified versions and can be used as diagnostic tests.\n",
    "- One advantage is that they do not require the estimation of the spatial model, just the spatial weights matrix is needed.\n"
   ]
  },
  {
   "cell_type": "markdown",
   "id": "3284f436-4ebc-4956-9349-f392f95684c2",
   "metadata": {},
   "source": [
    "## 2.1 Classic Lagrange Multiplier test (Anselin et. al, 1996)"
   ]
  },
  {
   "cell_type": "code",
   "execution_count": 4,
   "id": "709b3988-9c6a-4be9-be2b-14f72f12922b",
   "metadata": {},
   "outputs": [],
   "source": [
    "# Create A spatial weights matrix for a grid with 100 observations\n",
    "n=10\n",
    "w = ps.lib.weights.lat2W(n,n) # Rook matrix for a nxn grid\n",
    "w.transform = 'r' #Row-standardize it"
   ]
  },
  {
   "cell_type": "code",
   "execution_count": 5,
   "id": "c2e3b4ad-67c0-43d0-ac44-988e6569be9b",
   "metadata": {},
   "outputs": [
    {
     "name": "stdout",
     "output_type": "stream",
     "text": [
      "LM-lag statistic: 0.1148\n",
      "LM-lag p-value: 0.7348\n",
      "LM-Error statistic: 0.0123\n",
      "LM-Error p-value: 0.9118\n"
     ]
    }
   ],
   "source": [
    "# Generate some data for 100 observations\n",
    "np.random.seed(1234)\n",
    "x1, x2, x3 = [np.random.normal(size=(100, 1)) for i in range(3)]\n",
    "X=np.column_stack((x1, 3*x2,2*x3))\n",
    "#Generate Y\n",
    "Y =  x1 + 3*x2+2*x3 +np.random.normal(size=(100, 1))\n",
    "#estimate OLS\n",
    "ols=spreg.OLS(Y,X)\n",
    "\n",
    "#Run the tests\n",
    "lm=spreg.LMtests(ols,w=w)\n",
    "\n",
    "#Print the results\n",
    "print('LM-lag statistic:',round(lm.lml[0] ,4))\n",
    "print('LM-lag p-value:',round(lm.lml[1],4) )\n",
    "print('LM-Error statistic:',round(lm.lme[0] ,4))\n",
    "print('LM-Error p-value:',round(lm.lme[1] ,4))"
   ]
  },
  {
   "cell_type": "markdown",
   "id": "8be58e56-4b82-4e78-aedb-3e55042e68e0",
   "metadata": {},
   "source": [
    "For both tests the Null Hypothesis is that the true model is the \"OLS model\" (no spatial autocorrelation).   \n",
    "Given the results, we do not reject the null."
   ]
  },
  {
   "cell_type": "markdown",
   "id": "59d4cfd8-a49e-40f3-8769-8212812a41bd",
   "metadata": {},
   "source": [
    "### 2.1.1 Simulation to test the empirical size of LM tests"
   ]
  },
  {
   "cell_type": "code",
   "execution_count": 6,
   "id": "24becd2b-a985-4396-8f14-bdef6077a4b3",
   "metadata": {},
   "outputs": [
    {
     "name": "stdout",
     "output_type": "stream",
     "text": [
      "The empirical size of LM-Lag is: 0.0492\n",
      "The empirical size of LM-Error is: 0.046\n"
     ]
    }
   ],
   "source": [
    "reps=5000\n",
    "reject_error=np.zeros(reps)\n",
    "reject_lag=np.zeros(reps)\n",
    "\n",
    "for i in range(reps):\n",
    "    x1, x2 = [np.random.normal(size=(100, 1)) for i in range(2)]\n",
    "    X=np.column_stack((x1, 3*x2))\n",
    "    #Generate Y\n",
    "    Y =  x1 + 3*x2 +np.random.normal(size=(100, 1), scale=3)\n",
    "    #estimate OLS\n",
    "    ols=spreg.OLS(Y,X)\n",
    "    #Run the tests\n",
    "    lm=spreg.LMtests(ols,w=w)\n",
    "    reject_error[i]=lm.lme[1]\n",
    "    reject_lag[i]=lm.lml[1]\n",
    "size_lag=len(np.where(reject_lag<0.05)[0])/reps\n",
    "size_error=len(np.where(reject_error<0.05)[0])/reps\n",
    "print('The empirical size of LM-Lag is:',size_lag)\n",
    "print('The empirical size of LM-Error is:',size_error)"
   ]
  },
  {
   "cell_type": "markdown",
   "id": "18d67def-5341-4fbf-a1de-900e5bcfd774",
   "metadata": {},
   "source": [
    "- For both tests, setting the critical p-value as 0.05, the null hypothesis was (falsely) rejected around 5% of the times, as expected."
   ]
  },
  {
   "cell_type": "markdown",
   "id": "f5c4bc18-281c-4e55-9cf1-c1989d48ba00",
   "metadata": {},
   "source": [
    "### 2.1.2 Simulation to test the power of LM tests\n",
    "\n",
    "- To test the power of LM test, we change the value of $\\rho$ and check the power curve"
   ]
  },
  {
   "cell_type": "code",
   "execution_count": 7,
   "id": "5f00ddbb-78c9-4d62-8340-4426436d98b7",
   "metadata": {
    "collapsed": true,
    "jupyter": {
     "outputs_hidden": true
    },
    "tags": []
   },
   "outputs": [
    {
     "name": "stdout",
     "output_type": "stream",
     "text": [
      "0.0\n",
      "0.05\n",
      "0.1\n",
      "0.15000000000000002\n",
      "0.2\n",
      "0.25\n",
      "0.30000000000000004\n",
      "0.35000000000000003\n",
      "0.4\n",
      "0.45\n",
      "0.5\n",
      "0.55\n",
      "0.6000000000000001\n",
      "0.65\n",
      "0.7000000000000001\n",
      "0.75\n",
      "0.8\n",
      "0.8500000000000001\n",
      "0.9\n",
      "0.9500000000000001\n",
      "1.0\n"
     ]
    }
   ],
   "source": [
    "#LM-Error\n",
    "reps=1000\n",
    "list_rho=np.arange(0,1,.05)\n",
    "size_error=np.zeros(len(list_rho))\n",
    "for j in range(len(list_rho)):\n",
    "    reject=np.zeros(reps)\n",
    "    for i in range(reps):\n",
    "        y1,x1,v1=sarerror_complete(w, rho=list_rho[j])\n",
    "        ols=spreg.OLS(y1,x1)\n",
    "        lm=spreg.LMtests(ols,w=w)\n",
    "        reject[i]=lm.lme[1]\n",
    "    size_error[j]=len(np.where(reject<0.05)[0])/reps"
   ]
  },
  {
   "cell_type": "code",
   "execution_count": 8,
   "id": "f5f0dc18-a95f-4eb5-9090-4cb5cec1a72d",
   "metadata": {},
   "outputs": [
    {
     "data": {
      "image/png": "[encoded data removed]",
      "text/plain": [
       "<Figure size 640x480 with 1 Axes>"
      ]
     },
     "metadata": {},
     "output_type": "display_data"
    }
   ],
   "source": [
    "plt.plot(list_rho,size_error, color='red')\n",
    "plt.xlabel(r'$\\rho$')\n",
    "plt.ylabel('Density')\n",
    "plt.title ('Power of LM-Error test');"
   ]
  },
  {
   "cell_type": "code",
   "execution_count": 9,
   "id": "7b748f8a-9cce-4628-804b-5f1815d42546",
   "metadata": {
    "collapsed": true,
    "jupyter": {
     "outputs_hidden": true
    },
    "tags": []
   },
   "outputs": [
    {
     "name": "stdout",
     "output_type": "stream",
     "text": [
      "0.0\n",
      "0.05\n",
      "0.1\n",
      "0.15000000000000002\n",
      "0.2\n",
      "0.25\n",
      "0.30000000000000004\n",
      "0.35000000000000003\n",
      "0.4\n",
      "0.45\n",
      "0.5\n",
      "0.55\n",
      "0.6000000000000001\n",
      "0.65\n",
      "0.7000000000000001\n",
      "0.75\n",
      "0.8\n",
      "0.8500000000000001\n",
      "0.9\n",
      "0.9500000000000001\n"
     ]
    }
   ],
   "source": [
    "#LM-Lag\n",
    "reps=1000\n",
    "list_rho=np.arange(0,1,.05)\n",
    "size=np.zeros(len(list_rho))\n",
    "for j in range(len(list_rho)):\n",
    "    reject=np.zeros(reps)\n",
    "    for i in range(reps):\n",
    "        y1,x1,v1=sarlag_complete(w, rho=list_rho[j])\n",
    "        ols=spreg.OLS(y1,x1)\n",
    "        lm=spreg.LMtests(ols,w=w)\n",
    "        reject[i]=lm.lme[1]\n",
    "    size[j]=len(np.where(reject<0.05)[0])/reps"
   ]
  },
  {
   "cell_type": "code",
   "execution_count": 10,
   "id": "27f3a089-c26a-41ed-a730-03059adaa9c0",
   "metadata": {},
   "outputs": [
    {
     "data": {
      "image/png": "[encoded data removed]",
      "text/plain": [
       "<Figure size 640x480 with 1 Axes>"
      ]
     },
     "metadata": {},
     "output_type": "display_data"
    }
   ],
   "source": [
    "plt.plot(list_rho,size)\n",
    "plt.xlabel(r'$\\rho$')\n",
    "plt.ylabel('Density')\n",
    "plt.title ('Power of LM-Lag test');"
   ]
  },
  {
   "cell_type": "markdown",
   "id": "dd175658-f2ac-43a0-9054-7d2111a25913",
   "metadata": {},
   "source": [
    "- One drawback of these tests is that they can not be computed as $n*R^2$!\n",
    "- For this reason, [Born & Breitung (2011)](https://www.jstor.org/stable/23118082) propose an alternative version that can be computed using an auxiliary regression. Moreover, the authors claim their test is robust against heteroscedastic errors."
   ]
  },
  {
   "cell_type": "markdown",
   "id": "45c19324-bb31-421d-8bbf-5a52acf0f15f",
   "metadata": {},
   "source": [
    "## 2.2 The alternative version from Born and Breitung"
   ]
  },
  {
   "cell_type": "code",
   "execution_count": null,
   "id": "8fc7b4f4-f18c-483c-a07e-9c4482bad6d7",
   "metadata": {},
   "outputs": [],
   "source": []
  }
 ],
 "metadata": {
  "kernelspec": {
   "display_name": "Python 3 (ipykernel)",
   "language": "python",
   "name": "python3"
  },
  "language_info": {
   "codemirror_mode": {
    "name": "ipython",
    "version": 3
   },
   "file_extension": ".py",
   "mimetype": "text/x-python",
   "name": "python",
   "nbconvert_exporter": "python",
   "pygments_lexer": "ipython3",
   "version": "3.9.16"
  }
 },
 "nbformat": 4,
 "nbformat_minor": 5
}
